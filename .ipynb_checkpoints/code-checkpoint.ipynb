{
 "cells": [
  {
   "cell_type": "code",
   "execution_count": 22,
   "id": "6cd658b7",
   "metadata": {},
   "outputs": [],
   "source": [
    "# importing the dependencies\n",
    "import numpy as np\n",
    "import matplotlib.pyplot as plt\n",
    "import seaborn as sns\n",
    "import cv2\n",
    "from PIL import Image\n",
    "from numpy import asarray\n",
    "import tensorflow as tf\n",
    "from tensorflow import keras\n",
    "from keras.datasets import mnist\n",
    "from tensorflow.math import confusion_matrix\n",
    "from tensorflow.keras.models import load_model\n",
    "import os\n",
    "from sklearn.model_selection import train_test_split"
   ]
  },
  {
   "cell_type": "code",
   "execution_count": 9,
   "id": "b14b0193",
   "metadata": {},
   "outputs": [],
   "source": [
    "# Data Preprocessing\n",
    "DATA_PATH = os.path.join('dataset')\n",
    "\n",
    "digits = np.array([0, 1, 2, 3, 4, 5, 6, 7, 8, 9])\n",
    "\n",
    "no_labels = 10"
   ]
  },
  {
   "cell_type": "code",
   "execution_count": 13,
   "id": "39506e43",
   "metadata": {},
   "outputs": [],
   "source": [
    "# data and label mapping\n",
    "X, y = [], []\n",
    "for label in range(no_labels):\n",
    "    path = os.path.join(DATA_PATH, str(label))\n",
    "    for file in os.listdir(path):\n",
    "        image = Image.open(path + '/' + file)\n",
    "        data = asarray(image)\n",
    "        X.append(data)\n",
    "        y.append(label)"
   ]
  },
  {
   "cell_type": "code",
   "execution_count": 18,
   "id": "df755c1e",
   "metadata": {},
   "outputs": [
    {
     "name": "stdout",
     "output_type": "stream",
     "text": [
      "(1075, 128, 128) (1075,)\n"
     ]
    }
   ],
   "source": [
    "X = np.array(X)\n",
    "y = np.array(y)\n",
    "print(X.shape, y.shape)"
   ]
  },
  {
   "cell_type": "code",
   "execution_count": 23,
   "id": "138c9c1b",
   "metadata": {},
   "outputs": [],
   "source": [
    "# train and test data split\n",
    "X_train, X_test, y_train, y_test = train_test_split(X, y, test_size=0.05)"
   ]
  },
  {
   "cell_type": "code",
   "execution_count": 24,
   "id": "8bafbc67",
   "metadata": {},
   "outputs": [
    {
     "name": "stdout",
     "output_type": "stream",
     "text": [
      "(1021, 128, 128) (54, 128, 128) (1021,) (54,)\n"
     ]
    }
   ],
   "source": [
    "print(X_train.shape, X_test.shape, y_train.shape, y_test.shape)"
   ]
  },
  {
   "cell_type": "code",
   "execution_count": 30,
   "id": "6537ca94",
   "metadata": {},
   "outputs": [],
   "source": [
    "# scaling the values (normalization)\n",
    "X_train = X_train / 255\n",
    "X_test = X_test / 255"
   ]
  },
  {
   "cell_type": "code",
   "execution_count": 35,
   "id": "206e0461",
   "metadata": {},
   "outputs": [],
   "source": [
    "# Building Neural Network\n",
    "model = keras.Sequential([\n",
    "    keras.layers.Flatten(input_shape=(128, 128)),\n",
    "    keras.layers.Dense(50, activation='relu'),\n",
    "    keras.layers.Dense(50, activation='relu'),\n",
    "    keras.layers.Dense(10, activation='sigmoid'),\n",
    "])"
   ]
  },
  {
   "cell_type": "code",
   "execution_count": 36,
   "id": "ee0dae1a",
   "metadata": {},
   "outputs": [],
   "source": [
    "model.compile(optimizer='adam', \n",
    "              loss='sparse_categorical_crossentropy', \n",
    "              metrics=['accuracy']\n",
    ")"
   ]
  },
  {
   "cell_type": "code",
   "execution_count": 37,
   "id": "cbc5e47b",
   "metadata": {},
   "outputs": [
    {
     "name": "stdout",
     "output_type": "stream",
     "text": [
      "Epoch 1/50\n",
      "32/32 [==============================] - 4s 11ms/step - loss: 2.3508 - accuracy: 0.2586\n",
      "Epoch 2/50\n",
      "32/32 [==============================] - 0s 11ms/step - loss: 1.3564 - accuracy: 0.5240\n",
      "Epoch 3/50\n",
      "32/32 [==============================] - 0s 11ms/step - loss: 1.0765 - accuracy: 0.6229\n",
      "Epoch 4/50\n",
      "32/32 [==============================] - 0s 11ms/step - loss: 0.8758 - accuracy: 0.7111\n",
      "Epoch 5/50\n",
      "32/32 [==============================] - 0s 11ms/step - loss: 0.7435 - accuracy: 0.7561\n",
      "Epoch 6/50\n",
      "32/32 [==============================] - 0s 12ms/step - loss: 0.6780 - accuracy: 0.7806\n",
      "Epoch 7/50\n",
      "32/32 [==============================] - 0s 14ms/step - loss: 0.6089 - accuracy: 0.8129\n",
      "Epoch 8/50\n",
      "32/32 [==============================] - 0s 11ms/step - loss: 0.5250 - accuracy: 0.8355\n",
      "Epoch 9/50\n",
      "32/32 [==============================] - 0s 11ms/step - loss: 0.5083 - accuracy: 0.8306\n",
      "Epoch 10/50\n",
      "32/32 [==============================] - 0s 15ms/step - loss: 0.4093 - accuracy: 0.8825\n",
      "Epoch 11/50\n",
      "32/32 [==============================] - 0s 11ms/step - loss: 0.4017 - accuracy: 0.8668\n",
      "Epoch 12/50\n",
      "32/32 [==============================] - 0s 15ms/step - loss: 0.3515 - accuracy: 0.8913\n",
      "Epoch 13/50\n",
      "32/32 [==============================] - 0s 11ms/step - loss: 0.3306 - accuracy: 0.8932\n",
      "Epoch 14/50\n",
      "32/32 [==============================] - 0s 11ms/step - loss: 0.2894 - accuracy: 0.9158\n",
      "Epoch 15/50\n",
      "32/32 [==============================] - 0s 15ms/step - loss: 0.2367 - accuracy: 0.9412\n",
      "Epoch 16/50\n",
      "32/32 [==============================] - 0s 11ms/step - loss: 0.2271 - accuracy: 0.9373\n",
      "Epoch 17/50\n",
      "32/32 [==============================] - 0s 14ms/step - loss: 0.1995 - accuracy: 0.9442\n",
      "Epoch 18/50\n",
      "32/32 [==============================] - 0s 11ms/step - loss: 0.1863 - accuracy: 0.9491\n",
      "Epoch 19/50\n",
      "32/32 [==============================] - 0s 11ms/step - loss: 0.1594 - accuracy: 0.9706\n",
      "Epoch 20/50\n",
      "32/32 [==============================] - 0s 11ms/step - loss: 0.1566 - accuracy: 0.9628\n",
      "Epoch 21/50\n",
      "32/32 [==============================] - 0s 11ms/step - loss: 0.1371 - accuracy: 0.9677\n",
      "Epoch 22/50\n",
      "32/32 [==============================] - 0s 11ms/step - loss: 0.1485 - accuracy: 0.9647\n",
      "Epoch 23/50\n",
      "32/32 [==============================] - 0s 15ms/step - loss: 0.1169 - accuracy: 0.9755\n",
      "Epoch 24/50\n",
      "32/32 [==============================] - 0s 11ms/step - loss: 0.0989 - accuracy: 0.9863\n",
      "Epoch 25/50\n",
      "32/32 [==============================] - 0s 11ms/step - loss: 0.1125 - accuracy: 0.9706\n",
      "Epoch 26/50\n",
      "32/32 [==============================] - 0s 11ms/step - loss: 0.0797 - accuracy: 0.9882\n",
      "Epoch 27/50\n",
      "32/32 [==============================] - 0s 11ms/step - loss: 0.0910 - accuracy: 0.9785\n",
      "Epoch 28/50\n",
      "32/32 [==============================] - 0s 11ms/step - loss: 0.0646 - accuracy: 0.9941\n",
      "Epoch 29/50\n",
      "32/32 [==============================] - 0s 15ms/step - loss: 0.0572 - accuracy: 0.9941\n",
      "Epoch 30/50\n",
      "32/32 [==============================] - 0s 10ms/step - loss: 0.0523 - accuracy: 0.9951\n",
      "Epoch 31/50\n",
      "32/32 [==============================] - 0s 11ms/step - loss: 0.0389 - accuracy: 0.9980\n",
      "Epoch 32/50\n",
      "32/32 [==============================] - 0s 15ms/step - loss: 0.0336 - accuracy: 0.9990\n",
      "Epoch 33/50\n",
      "32/32 [==============================] - 0s 12ms/step - loss: 0.0306 - accuracy: 0.9990\n",
      "Epoch 34/50\n",
      "32/32 [==============================] - 0s 11ms/step - loss: 0.0275 - accuracy: 0.9990\n",
      "Epoch 35/50\n",
      "32/32 [==============================] - 0s 15ms/step - loss: 0.0264 - accuracy: 0.9990\n",
      "Epoch 36/50\n",
      "32/32 [==============================] - 0s 11ms/step - loss: 0.0216 - accuracy: 1.0000\n",
      "Epoch 37/50\n",
      "32/32 [==============================] - 0s 11ms/step - loss: 0.0196 - accuracy: 1.0000\n",
      "Epoch 38/50\n",
      "32/32 [==============================] - 0s 12ms/step - loss: 0.0200 - accuracy: 1.0000\n",
      "Epoch 39/50\n",
      "32/32 [==============================] - 0s 14ms/step - loss: 0.0183 - accuracy: 0.9990\n",
      "Epoch 40/50\n",
      "32/32 [==============================] - 0s 10ms/step - loss: 0.0171 - accuracy: 1.0000\n",
      "Epoch 41/50\n",
      "32/32 [==============================] - 0s 11ms/step - loss: 0.0141 - accuracy: 1.0000\n",
      "Epoch 42/50\n",
      "32/32 [==============================] - 0s 11ms/step - loss: 0.0124 - accuracy: 1.0000\n",
      "Epoch 43/50\n",
      "32/32 [==============================] - 0s 11ms/step - loss: 0.0118 - accuracy: 1.0000\n",
      "Epoch 44/50\n",
      "32/32 [==============================] - 0s 11ms/step - loss: 0.0142 - accuracy: 1.0000\n",
      "Epoch 45/50\n",
      "32/32 [==============================] - 0s 12ms/step - loss: 0.0117 - accuracy: 1.0000\n",
      "Epoch 46/50\n",
      "32/32 [==============================] - 0s 14ms/step - loss: 0.0100 - accuracy: 1.0000\n",
      "Epoch 47/50\n",
      "32/32 [==============================] - 0s 11ms/step - loss: 0.0087 - accuracy: 1.0000\n",
      "Epoch 48/50\n",
      "32/32 [==============================] - 0s 12ms/step - loss: 0.0081 - accuracy: 1.0000\n",
      "Epoch 49/50\n",
      "32/32 [==============================] - 0s 13ms/step - loss: 0.0079 - accuracy: 1.0000\n",
      "Epoch 50/50\n",
      "32/32 [==============================] - 0s 11ms/step - loss: 0.0078 - accuracy: 1.0000\n"
     ]
    },
    {
     "data": {
      "text/plain": [
       "<keras.callbacks.History at 0x1b53804e430>"
      ]
     },
     "execution_count": 37,
     "metadata": {},
     "output_type": "execute_result"
    }
   ],
   "source": [
    "#training the neural network\n",
    "model.fit(X_train, y_train, epochs=40)"
   ]
  },
  {
   "cell_type": "code",
   "execution_count": null,
   "id": "6296edc8",
   "metadata": {},
   "outputs": [],
   "source": []
  }
 ],
 "metadata": {
  "kernelspec": {
   "display_name": "Python 3 (ipykernel)",
   "language": "python",
   "name": "python3"
  },
  "language_info": {
   "codemirror_mode": {
    "name": "ipython",
    "version": 3
   },
   "file_extension": ".py",
   "mimetype": "text/x-python",
   "name": "python",
   "nbconvert_exporter": "python",
   "pygments_lexer": "ipython3",
   "version": "3.9.7"
  }
 },
 "nbformat": 4,
 "nbformat_minor": 5
}
