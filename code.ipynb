{
 "cells": [
  {
   "cell_type": "code",
   "execution_count": 124,
   "id": "6cd658b7",
   "metadata": {},
   "outputs": [],
   "source": [
    "# importing the dependencies\n",
    "import numpy as np\n",
    "import matplotlib.pyplot as plt\n",
    "import seaborn as sns\n",
    "import cv2\n",
    "from PIL import Image\n",
    "from numpy import asarray\n",
    "import tensorflow as tf\n",
    "from tensorflow import keras\n",
    "from keras.datasets import mnist\n",
    "from tensorflow.math import confusion_matrix\n",
    "from tensorflow.keras.models import load_model\n",
    "import os\n",
    "from sklearn.model_selection import train_test_split"
   ]
  },
  {
   "cell_type": "code",
   "execution_count": 125,
   "id": "b14b0193",
   "metadata": {},
   "outputs": [],
   "source": [
    "# Data Preprocessing\n",
    "DATA_PATH = os.path.join('dataset')\n",
    "\n",
    "digits = np.array([0, 1, 2, 3, 4, 5, 6, 7, 8, 9])\n",
    "\n",
    "no_labels = 10"
   ]
  },
  {
   "cell_type": "code",
   "execution_count": 126,
   "id": "39506e43",
   "metadata": {},
   "outputs": [],
   "source": [
    "# data and label mapping\n",
    "X, y = [], []\n",
    "for label in range(no_labels):\n",
    "    path = os.path.join(DATA_PATH, str(label))\n",
    "    for file in os.listdir(path):\n",
    "        image = Image.open(path + '/' + file)\n",
    "        data = asarray(image)\n",
    "        X.append(data)\n",
    "        y.append(label)"
   ]
  },
  {
   "cell_type": "code",
   "execution_count": 127,
   "id": "df755c1e",
   "metadata": {},
   "outputs": [
    {
     "name": "stdout",
     "output_type": "stream",
     "text": [
      "(1075, 128, 128) (1075,)\n"
     ]
    }
   ],
   "source": [
    "X = np.array(X)\n",
    "y = np.array(y)\n",
    "print(X.shape, y.shape)"
   ]
  },
  {
   "cell_type": "code",
   "execution_count": 128,
   "id": "138c9c1b",
   "metadata": {},
   "outputs": [],
   "source": [
    "# train and test data split\n",
    "X_train, X_test, y_train, y_test = train_test_split(X, y, test_size=0.05)"
   ]
  },
  {
   "cell_type": "code",
   "execution_count": 129,
   "id": "8bafbc67",
   "metadata": {},
   "outputs": [
    {
     "name": "stdout",
     "output_type": "stream",
     "text": [
      "(1021, 128, 128) (54, 128, 128) (1021,) (54,)\n"
     ]
    }
   ],
   "source": [
    "print(X_train.shape, X_test.shape, y_train.shape, y_test.shape)"
   ]
  },
  {
   "cell_type": "code",
   "execution_count": 130,
   "id": "6537ca94",
   "metadata": {},
   "outputs": [],
   "source": [
    "# scaling the values (normalization)\n",
    "X_train = X_train / 255\n",
    "X_test = X_test / 255"
   ]
  },
  {
   "cell_type": "code",
   "execution_count": 131,
   "id": "206e0461",
   "metadata": {},
   "outputs": [],
   "source": [
    "# Building Neural Network\n",
    "model = keras.Sequential([\n",
    "    keras.layers.Flatten(input_shape=(128, 128)),\n",
    "    keras.layers.Dense(50, activation='relu'),\n",
    "    keras.layers.Dense(50, activation='relu'),\n",
    "    keras.layers.Dense(10, activation='sigmoid'),\n",
    "])"
   ]
  },
  {
   "cell_type": "code",
   "execution_count": 132,
   "id": "ee0dae1a",
   "metadata": {},
   "outputs": [],
   "source": [
    "model.compile(optimizer='adam', \n",
    "              loss='sparse_categorical_crossentropy', \n",
    "              metrics=['accuracy']\n",
    ")"
   ]
  },
  {
   "cell_type": "code",
   "execution_count": 133,
   "id": "cbc5e47b",
   "metadata": {
    "scrolled": true
   },
   "outputs": [
    {
     "name": "stdout",
     "output_type": "stream",
     "text": [
      "Epoch 1/50\n",
      "32/32 [==============================] - 1s 11ms/step - loss: 3.2796 - accuracy: 0.2145\n",
      "Epoch 2/50\n",
      "32/32 [==============================] - 0s 12ms/step - loss: 1.6210 - accuracy: 0.4182\n",
      "Epoch 3/50\n",
      "32/32 [==============================] - 0s 12ms/step - loss: 1.2801 - accuracy: 0.5847\n",
      "Epoch 4/50\n",
      "32/32 [==============================] - 0s 12ms/step - loss: 1.0511 - accuracy: 0.6474\n",
      "Epoch 5/50\n",
      "32/32 [==============================] - 0s 11ms/step - loss: 0.9091 - accuracy: 0.7081\n",
      "Epoch 6/50\n",
      "32/32 [==============================] - 0s 12ms/step - loss: 0.7801 - accuracy: 0.7395\n",
      "Epoch 7/50\n",
      "32/32 [==============================] - 0s 11ms/step - loss: 0.7102 - accuracy: 0.7708\n",
      "Epoch 8/50\n",
      "32/32 [==============================] - 0s 11ms/step - loss: 0.5990 - accuracy: 0.8227\n",
      "Epoch 9/50\n",
      "32/32 [==============================] - 0s 12ms/step - loss: 0.5226 - accuracy: 0.8413\n",
      "Epoch 10/50\n",
      "32/32 [==============================] - 0s 11ms/step - loss: 0.5017 - accuracy: 0.8541\n",
      "Epoch 11/50\n",
      "32/32 [==============================] - 0s 11ms/step - loss: 0.4435 - accuracy: 0.8756\n",
      "Epoch 12/50\n",
      "32/32 [==============================] - 0s 11ms/step - loss: 0.4127 - accuracy: 0.8648\n",
      "Epoch 13/50\n",
      "32/32 [==============================] - 0s 11ms/step - loss: 0.3836 - accuracy: 0.8844\n",
      "Epoch 14/50\n",
      "32/32 [==============================] - 0s 11ms/step - loss: 0.3595 - accuracy: 0.8903\n",
      "Epoch 15/50\n",
      "32/32 [==============================] - 0s 13ms/step - loss: 0.3155 - accuracy: 0.9148\n",
      "Epoch 16/50\n",
      "32/32 [==============================] - 0s 13ms/step - loss: 0.3344 - accuracy: 0.8991\n",
      "Epoch 17/50\n",
      "32/32 [==============================] - 0s 14ms/step - loss: 0.3216 - accuracy: 0.8942\n",
      "Epoch 18/50\n",
      "32/32 [==============================] - 0s 13ms/step - loss: 0.2477 - accuracy: 0.9305\n",
      "Epoch 19/50\n",
      "32/32 [==============================] - 0s 13ms/step - loss: 0.2305 - accuracy: 0.9393\n",
      "Epoch 20/50\n",
      "32/32 [==============================] - 0s 10ms/step - loss: 0.2024 - accuracy: 0.9510\n",
      "Epoch 21/50\n",
      "32/32 [==============================] - 0s 11ms/step - loss: 0.1748 - accuracy: 0.9657\n",
      "Epoch 22/50\n",
      "32/32 [==============================] - 0s 11ms/step - loss: 0.1797 - accuracy: 0.9598\n",
      "Epoch 23/50\n",
      "32/32 [==============================] - 0s 11ms/step - loss: 0.1753 - accuracy: 0.9579\n",
      "Epoch 24/50\n",
      "32/32 [==============================] - 0s 11ms/step - loss: 0.1436 - accuracy: 0.9667\n",
      "Epoch 25/50\n",
      "32/32 [==============================] - 0s 11ms/step - loss: 0.1473 - accuracy: 0.9657\n",
      "Epoch 26/50\n",
      "32/32 [==============================] - 0s 11ms/step - loss: 0.1118 - accuracy: 0.9755\n",
      "Epoch 27/50\n",
      "32/32 [==============================] - 0s 11ms/step - loss: 0.1360 - accuracy: 0.9598\n",
      "Epoch 28/50\n",
      "32/32 [==============================] - 0s 12ms/step - loss: 0.1417 - accuracy: 0.9549\n",
      "Epoch 29/50\n",
      "32/32 [==============================] - 0s 11ms/step - loss: 0.0949 - accuracy: 0.9804\n",
      "Epoch 30/50\n",
      "32/32 [==============================] - 0s 11ms/step - loss: 0.0714 - accuracy: 0.9833\n",
      "Epoch 31/50\n",
      "32/32 [==============================] - 0s 11ms/step - loss: 0.0711 - accuracy: 0.9912\n",
      "Epoch 32/50\n",
      "32/32 [==============================] - 0s 12ms/step - loss: 0.0618 - accuracy: 0.9961\n",
      "Epoch 33/50\n",
      "32/32 [==============================] - 0s 11ms/step - loss: 0.0561 - accuracy: 0.9922\n",
      "Epoch 34/50\n",
      "32/32 [==============================] - 0s 11ms/step - loss: 0.0509 - accuracy: 0.9941\n",
      "Epoch 35/50\n",
      "32/32 [==============================] - 0s 11ms/step - loss: 0.0406 - accuracy: 0.9971\n",
      "Epoch 36/50\n",
      "32/32 [==============================] - 0s 13ms/step - loss: 0.0389 - accuracy: 0.9971\n",
      "Epoch 37/50\n",
      "32/32 [==============================] - 0s 11ms/step - loss: 0.0345 - accuracy: 0.9971\n",
      "Epoch 38/50\n",
      "32/32 [==============================] - 0s 11ms/step - loss: 0.0316 - accuracy: 0.9980\n",
      "Epoch 39/50\n",
      "32/32 [==============================] - 0s 11ms/step - loss: 0.0288 - accuracy: 0.9990\n",
      "Epoch 40/50\n",
      "32/32 [==============================] - 0s 11ms/step - loss: 0.0276 - accuracy: 0.9990\n",
      "Epoch 41/50\n",
      "32/32 [==============================] - 0s 11ms/step - loss: 0.0281 - accuracy: 0.9990\n",
      "Epoch 42/50\n",
      "32/32 [==============================] - 0s 13ms/step - loss: 0.0269 - accuracy: 0.9990\n",
      "Epoch 43/50\n",
      "32/32 [==============================] - 0s 11ms/step - loss: 0.0234 - accuracy: 0.9990\n",
      "Epoch 44/50\n",
      "32/32 [==============================] - 0s 11ms/step - loss: 0.0212 - accuracy: 0.9990\n",
      "Epoch 45/50\n",
      "32/32 [==============================] - 0s 12ms/step - loss: 0.0215 - accuracy: 0.9990\n",
      "Epoch 46/50\n",
      "32/32 [==============================] - 0s 12ms/step - loss: 0.0190 - accuracy: 1.0000\n",
      "Epoch 47/50\n",
      "32/32 [==============================] - 0s 12ms/step - loss: 0.0171 - accuracy: 0.9990\n",
      "Epoch 48/50\n",
      "32/32 [==============================] - 0s 11ms/step - loss: 0.0162 - accuracy: 1.0000\n",
      "Epoch 49/50\n",
      "32/32 [==============================] - 0s 13ms/step - loss: 0.0155 - accuracy: 1.0000\n",
      "Epoch 50/50\n",
      "32/32 [==============================] - 0s 13ms/step - loss: 0.0141 - accuracy: 1.0000\n"
     ]
    },
    {
     "data": {
      "text/plain": [
       "<keras.callbacks.History at 0x29cb0b31ca0>"
      ]
     },
     "execution_count": 133,
     "metadata": {},
     "output_type": "execute_result"
    }
   ],
   "source": [
    "#training the neural network\n",
    "model.fit(X_train, y_train, epochs=50)"
   ]
  },
  {
   "cell_type": "code",
   "execution_count": 134,
   "id": "6296edc8",
   "metadata": {},
   "outputs": [],
   "source": [
    "model.save('dense_NN.h5')"
   ]
  },
  {
   "cell_type": "code",
   "execution_count": 135,
   "id": "e49c022a",
   "metadata": {},
   "outputs": [
    {
     "name": "stdout",
     "output_type": "stream",
     "text": [
      "WARNING:tensorflow:5 out of the last 129 calls to <function Model.make_test_function.<locals>.test_function at 0x0000029CB01D1160> triggered tf.function retracing. Tracing is expensive and the excessive number of tracings could be due to (1) creating @tf.function repeatedly in a loop, (2) passing tensors with different shapes, (3) passing Python objects instead of tensors. For (1), please define your @tf.function outside of the loop. For (2), @tf.function has reduce_retracing=True option that can avoid unnecessary retracing. For (3), please refer to https://www.tensorflow.org/guide/function#controlling_retracing and https://www.tensorflow.org/api_docs/python/tf/function for  more details.\n",
      "2/2 [==============================] - 0s 6ms/step - loss: 0.5180 - accuracy: 0.8519\n"
     ]
    }
   ],
   "source": [
    "loss, accuracy = model.evaluate(X_test, y_test)"
   ]
  },
  {
   "cell_type": "code",
   "execution_count": 136,
   "id": "fb2221e9",
   "metadata": {},
   "outputs": [
    {
     "name": "stdout",
     "output_type": "stream",
     "text": [
      "WARNING:tensorflow:5 out of the last 9 calls to <function Model.make_predict_function.<locals>.predict_function at 0x0000029CB02AD1F0> triggered tf.function retracing. Tracing is expensive and the excessive number of tracings could be due to (1) creating @tf.function repeatedly in a loop, (2) passing tensors with different shapes, (3) passing Python objects instead of tensors. For (1), please define your @tf.function outside of the loop. For (2), @tf.function has reduce_retracing=True option that can avoid unnecessary retracing. For (3), please refer to https://www.tensorflow.org/guide/function#controlling_retracing and https://www.tensorflow.org/api_docs/python/tf/function for  more details.\n",
      "2/2 [==============================] - 0s 6ms/step\n"
     ]
    }
   ],
   "source": [
    "# Making prediction on X_test\n",
    "y_pred = model.predict(X_test)"
   ]
  },
  {
   "cell_type": "code",
   "execution_count": 137,
   "id": "a4b32c1c",
   "metadata": {},
   "outputs": [],
   "source": [
    "# Converting the prediction probabilities to class label for all test cases\n",
    "y_pred_labels = [np.argmax(i) for i in  y_pred]"
   ]
  },
  {
   "cell_type": "code",
   "execution_count": 138,
   "id": "38b8f1cf",
   "metadata": {},
   "outputs": [
    {
     "name": "stdout",
     "output_type": "stream",
     "text": [
      "tf.Tensor(\n",
      "[[6 0 0 0 0 0 0 0 0 0]\n",
      " [0 3 0 0 0 0 0 0 0 0]\n",
      " [0 0 3 1 0 0 0 0 0 0]\n",
      " [0 0 1 6 0 0 0 0 0 0]\n",
      " [0 0 0 1 4 0 0 0 0 0]\n",
      " [0 0 0 0 1 8 0 0 0 0]\n",
      " [0 0 0 0 0 0 1 0 0 0]\n",
      " [0 0 0 0 0 0 0 5 3 0]\n",
      " [0 0 0 0 0 0 0 1 8 0]\n",
      " [0 0 0 0 0 0 0 0 0 2]], shape=(10, 10), dtype=int32)\n"
     ]
    }
   ],
   "source": [
    "# Building Confusion Matrix\n",
    "conf_mat = confusion_matrix(y_test, y_pred_labels)\n",
    "print(conf_mat)"
   ]
  },
  {
   "cell_type": "code",
   "execution_count": 148,
   "id": "858916bb",
   "metadata": {},
   "outputs": [
    {
     "data": {
      "text/plain": [
       "Text(0.5, 42.0, 'predicted Labels')"
      ]
     },
     "execution_count": 148,
     "metadata": {},
     "output_type": "execute_result"
    },
    {
     "data": {
      "image/png": "[encoded data removed]",
      "text/plain": [
       "<Figure size 1080x504 with 2 Axes>"
      ]
     },
     "metadata": {
      "needs_background": "light"
     },
     "output_type": "display_data"
    }
   ],
   "source": [
    "# Ploting Confusion Matrix\n",
    "plt.figure(figsize=(15, 7))\n",
    "sns.heatmap(conf_mat, annot=True, fmt='d', cmap='Blues')\n",
    "plt.ylabel('True Labels')\n",
    "plt.xlabel(\"predicted Labels\")"
   ]
  },
  {
   "cell_type": "code",
   "execution_count": 139,
   "id": "8f51ad40",
   "metadata": {},
   "outputs": [
    {
     "name": "stdout",
     "output_type": "stream",
     "text": [
      "Dense NN Accuracy : 85.19%\n"
     ]
    }
   ],
   "source": [
    "accuracy_score(y_test, y_pred_labels)\n",
    "print(\"Dense NN Accuracy : %.2f%%\" % (accuracy * 100))"
   ]
  },
  {
   "cell_type": "code",
   "execution_count": null,
   "id": "2bb301bc",
   "metadata": {},
   "outputs": [],
   "source": []
  },
  {
   "cell_type": "code",
   "execution_count": 140,
   "id": "3fe4f942",
   "metadata": {},
   "outputs": [],
   "source": [
    "from tensorflow.keras.applications.resnet50 import decode_predictions\n",
    "from keras.optimizers import Adam, SGD\n",
    "from keras.models import Sequential,Model,load_model\n",
    "from keras.layers import BatchNormalization, Activation, MaxPooling2D\n",
    "from keras.layers import AveragePooling2D, Dense, Dropout, Flatten, Conv2D, MaxPool2D,GlobalAveragePooling2D\n",
    "from keras.utils import np_utils"
   ]
  },
  {
   "cell_type": "code",
   "execution_count": 141,
   "id": "dee628d5",
   "metadata": {},
   "outputs": [],
   "source": [
    "cnn_model = Sequential()\n",
    "cnn_model.add(Conv2D(16, (2,2), input_shape=(128, 128, 1), activation='relu'))\n",
    "cnn_model.add(MaxPooling2D(pool_size=(2, 2), strides=(2, 2), padding='same'))\n",
    "cnn_model.add(Conv2D(32, (3,3), activation='relu'))\n",
    "cnn_model.add(MaxPooling2D(pool_size=(3, 3), strides=(3, 3), padding='same'))\n",
    "cnn_model.add(Conv2D(64, (5,5), activation='relu'))\n",
    "cnn_model.add(MaxPooling2D(pool_size=(5, 5), strides=(5, 5), padding='same'))\n",
    "cnn_model.add(Flatten())\n",
    "cnn_model.add(Dense(128, activation='relu'))\n",
    "cnn_model.add(Dropout(0.2))\n",
    "cnn_model.add(Dense(10, activation='softmax'))\n",
    "adam = Adam(learning_rate=0.001)\n",
    "cnn_model.compile(loss='categorical_crossentropy', optimizer=adam, metrics=['accuracy'])"
   ]
  },
  {
   "cell_type": "code",
   "execution_count": 142,
   "id": "fc05db77",
   "metadata": {},
   "outputs": [
    {
     "data": {
      "text/plain": [
       "(1021, 10)"
      ]
     },
     "execution_count": 142,
     "metadata": {},
     "output_type": "execute_result"
    }
   ],
   "source": [
    "train_images = np.reshape(X_train, (X_train.shape[0], 128, 128, 1))\n",
    "test_images = np.reshape(X_test, (X_test.shape[0], 128, 128, 1))\n",
    "\n",
    "train_labels = np_utils.to_categorical(y_train, 10)\n",
    "test_labels = np_utils.to_categorical(y_test, 10)\n",
    "\n",
    "train_labels.shape"
   ]
  },
  {
   "cell_type": "code",
   "execution_count": 143,
   "id": "4038893f",
   "metadata": {},
   "outputs": [
    {
     "name": "stdout",
     "output_type": "stream",
     "text": [
      "Model: \"sequential_12\"\n",
      "_________________________________________________________________\n",
      " Layer (type)                Output Shape              Param #   \n",
      "=================================================================\n",
      " conv2d_27 (Conv2D)          (None, 127, 127, 16)      80        \n",
      "                                                                 \n",
      " max_pooling2d_27 (MaxPoolin  (None, 64, 64, 16)       0         \n",
      " g2D)                                                            \n",
      "                                                                 \n",
      " conv2d_28 (Conv2D)          (None, 62, 62, 32)        4640      \n",
      "                                                                 \n",
      " max_pooling2d_28 (MaxPoolin  (None, 21, 21, 32)       0         \n",
      " g2D)                                                            \n",
      "                                                                 \n",
      " conv2d_29 (Conv2D)          (None, 17, 17, 64)        51264     \n",
      "                                                                 \n",
      " max_pooling2d_29 (MaxPoolin  (None, 4, 4, 64)         0         \n",
      " g2D)                                                            \n",
      "                                                                 \n",
      " flatten_11 (Flatten)        (None, 1024)              0         \n",
      "                                                                 \n",
      " dense_24 (Dense)            (None, 128)               131200    \n",
      "                                                                 \n",
      " dropout_9 (Dropout)         (None, 128)               0         \n",
      "                                                                 \n",
      " dense_25 (Dense)            (None, 10)                1290      \n",
      "                                                                 \n",
      "=================================================================\n",
      "Total params: 188,474\n",
      "Trainable params: 188,474\n",
      "Non-trainable params: 0\n",
      "_________________________________________________________________\n"
     ]
    }
   ],
   "source": [
    "cnn_model.summary()"
   ]
  },
  {
   "cell_type": "code",
   "execution_count": 145,
   "id": "5df2468e",
   "metadata": {},
   "outputs": [
    {
     "name": "stdout",
     "output_type": "stream",
     "text": [
      "Epoch 1/30\n",
      "32/32 [==============================] - 8s 252ms/step - loss: 0.8010 - accuracy: 0.7258\n",
      "Epoch 2/30\n",
      "32/32 [==============================] - 8s 250ms/step - loss: 0.5586 - accuracy: 0.8139\n",
      "Epoch 3/30\n",
      "32/32 [==============================] - 8s 251ms/step - loss: 0.4142 - accuracy: 0.8697\n",
      "Epoch 4/30\n",
      "32/32 [==============================] - 8s 248ms/step - loss: 0.3002 - accuracy: 0.9099\n",
      "Epoch 5/30\n",
      "32/32 [==============================] - 8s 250ms/step - loss: 0.2126 - accuracy: 0.9275\n",
      "Epoch 6/30\n",
      "32/32 [==============================] - 8s 245ms/step - loss: 0.1584 - accuracy: 0.9412\n",
      "Epoch 7/30\n",
      "32/32 [==============================] - 8s 251ms/step - loss: 0.1475 - accuracy: 0.9432\n",
      "Epoch 8/30\n",
      "32/32 [==============================] - 8s 246ms/step - loss: 0.1501 - accuracy: 0.9540\n",
      "Epoch 9/30\n",
      "32/32 [==============================] - 8s 251ms/step - loss: 0.0692 - accuracy: 0.9794\n",
      "Epoch 10/30\n",
      "32/32 [==============================] - 8s 246ms/step - loss: 0.0628 - accuracy: 0.9785\n",
      "Epoch 11/30\n",
      "32/32 [==============================] - 8s 247ms/step - loss: 0.0334 - accuracy: 0.9922\n",
      "Epoch 12/30\n",
      "32/32 [==============================] - 8s 249ms/step - loss: 0.0502 - accuracy: 0.9843\n",
      "Epoch 13/30\n",
      "32/32 [==============================] - 9s 280ms/step - loss: 0.0536 - accuracy: 0.9873\n",
      "Epoch 14/30\n",
      "32/32 [==============================] - 9s 269ms/step - loss: 0.0363 - accuracy: 0.9902\n",
      "Epoch 15/30\n",
      "32/32 [==============================] - 8s 262ms/step - loss: 0.0250 - accuracy: 0.9951\n",
      "Epoch 16/30\n",
      "32/32 [==============================] - 8s 263ms/step - loss: 0.0154 - accuracy: 0.9951\n",
      "Epoch 17/30\n",
      "32/32 [==============================] - 8s 260ms/step - loss: 0.0327 - accuracy: 0.9873\n",
      "Epoch 18/30\n",
      "32/32 [==============================] - 8s 250ms/step - loss: 0.0364 - accuracy: 0.9833\n",
      "Epoch 19/30\n",
      "32/32 [==============================] - 8s 254ms/step - loss: 0.0205 - accuracy: 0.9941\n",
      "Epoch 20/30\n",
      "32/32 [==============================] - 8s 255ms/step - loss: 0.0138 - accuracy: 0.9941\n",
      "Epoch 21/30\n",
      "32/32 [==============================] - 8s 252ms/step - loss: 0.0157 - accuracy: 0.9961\n",
      "Epoch 22/30\n",
      "32/32 [==============================] - 8s 256ms/step - loss: 0.0129 - accuracy: 0.9971\n",
      "Epoch 23/30\n",
      "32/32 [==============================] - 8s 247ms/step - loss: 0.0149 - accuracy: 0.9941\n",
      "Epoch 24/30\n",
      "32/32 [==============================] - 8s 260ms/step - loss: 0.0181 - accuracy: 0.9931\n",
      "Epoch 25/30\n",
      "32/32 [==============================] - 8s 250ms/step - loss: 0.0190 - accuracy: 0.9961\n",
      "Epoch 26/30\n",
      "32/32 [==============================] - 8s 255ms/step - loss: 0.0170 - accuracy: 0.9951\n",
      "Epoch 27/30\n",
      "32/32 [==============================] - 8s 252ms/step - loss: 0.0036 - accuracy: 1.0000\n",
      "Epoch 28/30\n",
      "32/32 [==============================] - 8s 248ms/step - loss: 0.0178 - accuracy: 0.9922\n",
      "Epoch 29/30\n",
      "32/32 [==============================] - 8s 254ms/step - loss: 0.0111 - accuracy: 0.9961\n",
      "Epoch 30/30\n",
      "32/32 [==============================] - 8s 250ms/step - loss: 0.0066 - accuracy: 0.9980\n"
     ]
    },
    {
     "data": {
      "text/plain": [
       "<keras.callbacks.History at 0x29ca1a11f70>"
      ]
     },
     "execution_count": 145,
     "metadata": {},
     "output_type": "execute_result"
    }
   ],
   "source": [
    "cnn_model.fit(train_images, train_labels, epochs=30)"
   ]
  },
  {
   "cell_type": "code",
   "execution_count": 146,
   "id": "9b88691a",
   "metadata": {},
   "outputs": [
    {
     "name": "stdout",
     "output_type": "stream",
     "text": [
      "CNN Accuracy: 94.44%\n"
     ]
    }
   ],
   "source": [
    "scores = cnn_model.evaluate(test_images, test_labels, verbose=0)\n",
    "print(\"CNN Accuracy: %.2f%%\" % (scores[1]*100))"
   ]
  },
  {
   "cell_type": "code",
   "execution_count": 147,
   "id": "170629cb",
   "metadata": {},
   "outputs": [],
   "source": [
    "cnn_model.save(\"cnn_model.h5\")"
   ]
  },
  {
   "cell_type": "code",
   "execution_count": 151,
   "id": "455c5ea1",
   "metadata": {
    "scrolled": false
   },
   "outputs": [
    {
     "name": "stdout",
     "output_type": "stream",
     "text": [
      "2/2 [==============================] - 0s 50ms/step\n"
     ]
    }
   ],
   "source": [
    "y_pred_cnn = cnn_model.predict(test_images)\n",
    "y_pred_labels_cnn = [np.argmax(i) for i in  y_pred_cnn]"
   ]
  },
  {
   "cell_type": "code",
   "execution_count": 152,
   "id": "261f5b3d",
   "metadata": {},
   "outputs": [
    {
     "name": "stdout",
     "output_type": "stream",
     "text": [
      "tf.Tensor(\n",
      "[[5 0 0 0 0 0 0 0 0 1]\n",
      " [0 3 0 0 0 0 0 0 0 0]\n",
      " [0 0 4 0 0 0 0 0 0 0]\n",
      " [0 0 0 7 0 0 0 0 0 0]\n",
      " [0 0 0 0 5 0 0 0 0 0]\n",
      " [0 0 0 0 0 8 0 0 1 0]\n",
      " [0 0 0 0 0 0 1 0 0 0]\n",
      " [0 0 0 0 0 0 0 7 1 0]\n",
      " [0 0 0 0 0 0 0 0 9 0]\n",
      " [0 0 0 0 0 0 0 0 0 2]], shape=(10, 10), dtype=int32)\n"
     ]
    }
   ],
   "source": [
    "# Building Confusion Matrix\n",
    "conf_mat_cnn = confusion_matrix(y_test, y_pred_labels_cnn)\n",
    "print(conf_mat_cnn)"
   ]
  },
  {
   "cell_type": "code",
   "execution_count": 153,
   "id": "e6acef2f",
   "metadata": {},
   "outputs": [
    {
     "data": {
      "text/plain": [
       "Text(0.5, 42.0, 'predicted Labels')"
      ]
     },
     "execution_count": 153,
     "metadata": {},
     "output_type": "execute_result"
    },
    {
     "data": {
      "image/png": "[encoded data removed]",
      "text/plain": [
       "<Figure size 1080x504 with 2 Axes>"
      ]
     },
     "metadata": {
      "needs_background": "light"
     },
     "output_type": "display_data"
    }
   ],
   "source": [
    "# Ploting Confusion Matrix\n",
    "plt.figure(figsize=(15, 7))\n",
    "sns.heatmap(conf_mat_cnn, annot=True, fmt='d', cmap='Blues')\n",
    "plt.ylabel('True Labels')\n",
    "plt.xlabel(\"predicted Labels\")"
   ]
  },
  {
   "cell_type": "code",
   "execution_count": 155,
   "id": "cc6b262a",
   "metadata": {},
   "outputs": [
    {
     "name": "stdout",
     "output_type": "stream",
     "text": [
      "CNN Accuracy: 94.44%\n"
     ]
    }
   ],
   "source": [
    "accuracy_score(y_test, y_pred_labels_cnn)\n",
    "print(\"CNN Accuracy: %.2f%%\" % (scores[1]*100))"
   ]
  },
  {
   "cell_type": "code",
   "execution_count": null,
   "id": "b9283c7a",
   "metadata": {},
   "outputs": [],
   "source": []
  }
 ],
 "metadata": {
  "kernelspec": {
   "display_name": "Python 3 (ipykernel)",
   "language": "python",
   "name": "python3"
  },
  "language_info": {
   "codemirror_mode": {
    "name": "ipython",
    "version": 3
   },
   "file_extension": ".py",
   "mimetype": "text/x-python",
   "name": "python",
   "nbconvert_exporter": "python",
   "pygments_lexer": "ipython3",
   "version": "3.9.7"
  }
 },
 "nbformat": 4,
 "nbformat_minor": 5
}
